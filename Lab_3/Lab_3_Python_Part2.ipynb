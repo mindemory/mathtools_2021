{
 "cells": [
  {
   "cell_type": "code",
   "execution_count": null,
   "metadata": {
    "executionInfo": {
     "elapsed": 308,
     "status": "ok",
     "timestamp": 1633010192088,
     "user": {
      "displayName": "Owen Marschall",
      "photoUrl": "https://lh3.googleusercontent.com/a/default-user=s64",
      "userId": "06541893158444459522"
     },
     "user_tz": 240
    },
    "id": "nr2-bTcl_H7X"
   },
   "outputs": [],
   "source": [
    "import numpy as np\n",
    "import matplotlib.pyplot as plt\n",
    "%matplotlib inline"
   ]
  },
  {
   "cell_type": "markdown",
   "metadata": {
    "id": "lpl5wY9Z_O7p"
   },
   "source": [
    "## 3. Intro to PCA\n",
    "Now let's look at what PCA does using a toy data set. First, load the % sample PCA data. The columns of this matrix are the values of two % correlated measurements (e.g. height and body weight). Load this data % set..."
   ]
  },
  {
   "cell_type": "code",
   "execution_count": null,
   "metadata": {
    "colab": {
     "base_uri": "https://localhost:8080/",
     "height": 426
    },
    "executionInfo": {
     "elapsed": 1541,
     "status": "error",
     "timestamp": 1633010166164,
     "user": {
      "displayName": "Owen Marschall",
      "photoUrl": "https://lh3.googleusercontent.com/a/default-user=s64",
      "userId": "06541893158444459522"
     },
     "user_tz": 240
    },
    "id": "6-FeS94S_MOF",
    "outputId": "7c2e668f-10c9-4aec-b7ac-2f646442eb05"
   },
   "outputs": [],
   "source": [
    "from scipy.io import loadmat\n",
    "pca_example = loadmat('pca_example.mat')"
   ]
  },
  {
   "cell_type": "code",
   "execution_count": null,
   "metadata": {
    "colab": {
     "base_uri": "https://localhost:8080/",
     "height": 164
    },
    "executionInfo": {
     "elapsed": 8,
     "status": "error",
     "timestamp": 1633010167203,
     "user": {
      "displayName": "Owen Marschall",
      "photoUrl": "https://lh3.googleusercontent.com/a/default-user=s64",
      "userId": "06541893158444459522"
     },
     "user_tz": 240
    },
    "id": "YJxJtGTU_YgH",
    "outputId": "1a05e579-d7ee-446d-b1d1-557ae22e1354"
   },
   "outputs": [],
   "source": [
    "#See what's in here\n",
    "pca_example.keys()"
   ]
  },
  {
   "cell_type": "code",
   "execution_count": null,
   "metadata": {},
   "outputs": [],
   "source": [
    "#Plot the data as a scatter plot. What are the shapes?\n",
    "X = pca_example['X']\n",
    "plt.plot(X[:,0], X[:,1], '.')"
   ]
  },
  {
   "cell_type": "markdown",
   "metadata": {},
   "source": [
    "What do you notice? As a reminder, in order to calculate the eigenvectors, our data must be centered around the mean values of each variable"
   ]
  },
  {
   "cell_type": "code",
   "execution_count": null,
   "metadata": {},
   "outputs": [],
   "source": [
    "X = X - np.mean(X, axis=0)\n",
    "#center the data and re-plot\n",
    "plt.plot(X[:,0], X[:,1], '.')"
   ]
  },
  {
   "cell_type": "markdown",
   "metadata": {},
   "source": [
    "Calculate the eigenvectors and eigenvalues of your data matrix"
   ]
  },
  {
   "cell_type": "code",
   "execution_count": null,
   "metadata": {},
   "outputs": [],
   "source": [
    "#Calculate the sample covariance matrix\n",
    "\n",
    "#your code here"
   ]
  },
  {
   "cell_type": "code",
   "execution_count": null,
   "metadata": {},
   "outputs": [],
   "source": [
    "#Take the eigendecomposition\n",
    "eigs, evecs = np.linalg.eig(C)\n",
    "#convert eigs to numpy array\n",
    "eigs = np.array(eigs)"
   ]
  },
  {
   "cell_type": "code",
   "execution_count": null,
   "metadata": {},
   "outputs": [],
   "source": [
    "#Interestingly, these are not sorted. Sort them by size of eigenvalue. Hint: use np.argsort. How do\n",
    "#we reverse direction of an array using just indexing?\n",
    "\n",
    "#your code here"
   ]
  },
  {
   "cell_type": "markdown",
   "metadata": {},
   "source": [
    "Now plot the directions of each eigenvector, scaled by its eigenvalue, onto the data"
   ]
  },
  {
   "cell_type": "code",
   "execution_count": null,
   "metadata": {},
   "outputs": [],
   "source": [
    "#your code here"
   ]
  },
  {
   "cell_type": "markdown",
   "metadata": {},
   "source": [
    "Now explicitly project the data onto each of these two PCs separately. Plot histograms of these projections and observe the variance. Which is bigger?"
   ]
  },
  {
   "cell_type": "code",
   "execution_count": null,
   "metadata": {},
   "outputs": [],
   "source": [
    "PC1 = evecs[:, 0]\n",
    "PC2 = evecs[:, 1]\n",
    "\n",
    "#your code here"
   ]
  },
  {
   "cell_type": "code",
   "execution_count": null,
   "metadata": {},
   "outputs": [],
   "source": [
    "#Now plot histograms separately\n",
    "\n",
    "#your code here"
   ]
  },
  {
   "cell_type": "code",
   "execution_count": null,
   "metadata": {},
   "outputs": [],
   "source": [
    "plt.figure()\n",
    "plt.hist(proj2)"
   ]
  },
  {
   "cell_type": "markdown",
   "metadata": {},
   "source": [
    "## 4. Dimensionality reduction via PCA: Gene expression\n",
    "We can use PCA to understand large data sets with many variables. In this data set, the expression levels of 208 genes has been measured under 79 conditions. Each of these genes has also been classified with a category. GeneData.mat contains a struct with two fields. Let's load it and take a look."
   ]
  },
  {
   "cell_type": "code",
   "execution_count": null,
   "metadata": {},
   "outputs": [],
   "source": [
    "GeneData = loadmat('GeneData.mat')"
   ]
  },
  {
   "cell_type": "code",
   "execution_count": null,
   "metadata": {},
   "outputs": [],
   "source": [
    "#GeneData is a matlab \"struct\". This makes our lives slightly harder. Play around with it, using type(),\n",
    "#.keys(), len(), .shape, etc. to try to unpack it until you find familiar python stuff\n",
    "\n",
    "#your code here"
   ]
  },
  {
   "cell_type": "markdown",
   "metadata": {},
   "source": [
    "The first field is the category of each gene (TCA: tricarboxylic acid cycle, Resp: respiration, Ribo: Cytoplasmatic ribosomal proteins, Prot: Proteasome, Hist: Histones)"
   ]
  },
  {
   "cell_type": "code",
   "execution_count": null,
   "metadata": {},
   "outputs": [],
   "source": [
    "GeneData['GeneData'][0, 0][0].shape"
   ]
  },
  {
   "cell_type": "code",
   "execution_count": null,
   "metadata": {},
   "outputs": [],
   "source": [
    "#What are the unique entries in here?\n",
    "np.unique(GeneData['GeneData'][0, 0][0])"
   ]
  },
  {
   "cell_type": "code",
   "execution_count": null,
   "metadata": {},
   "outputs": [],
   "source": [
    "#Unpack them in a meaningful way as strings\n",
    "category = [GeneData['GeneData'][0, 0][0][0, i][0] for i in range(GeneData['GeneData'][0, 0][0].shape[1])]"
   ]
  },
  {
   "cell_type": "code",
   "execution_count": null,
   "metadata": {},
   "outputs": [],
   "source": [
    "print(category)"
   ]
  },
  {
   "cell_type": "code",
   "execution_count": null,
   "metadata": {},
   "outputs": [],
   "source": [
    "#Get just the unique category names\n",
    "set(category)"
   ]
  },
  {
   "cell_type": "markdown",
   "metadata": {},
   "source": [
    "The second field contains the change in expression levels of each of the 208 genes in each of the 79 experimental condition relative to baseline. Increases and decreases of expression level are reported by positive and negative values, respectively."
   ]
  },
  {
   "cell_type": "markdown",
   "metadata": {},
   "source": [
    "Consider first two experimental conditions, in a 2D scatter plot, plot the expression levels of condition 2 as a function of condition 1 and color the points according to the gene categories"
   ]
  },
  {
   "cell_type": "code",
   "execution_count": null,
   "metadata": {},
   "outputs": [],
   "source": [
    "#your code here"
   ]
  },
  {
   "cell_type": "markdown",
   "metadata": {},
   "source": [
    "Do you notice any structure in the data? Can you cluster the data based on these two conditions?"
   ]
  },
  {
   "cell_type": "markdown",
   "metadata": {},
   "source": [
    "This doesn't seem to be very informative. We can tell the hist genes apart from the others, but the rest are clumped together, Lets see if PCA can help us differentiate the groups of gene classes based on their change in expression over the 79 trials. To do this, we would like to reduce the dimensionality of the trials in order to visualize each gene's expression pattern in a lower dimension."
   ]
  },
  {
   "cell_type": "code",
   "execution_count": null,
   "metadata": {},
   "outputs": [],
   "source": [
    "#First subtract out the mean\n",
    "\n",
    "#your code here"
   ]
  },
  {
   "cell_type": "code",
   "execution_count": null,
   "metadata": {},
   "outputs": [],
   "source": [
    "#Take the first few principle components. This time do it by the SVD instead of eigenvalues, for fun.\n",
    "\n",
    "#your code here"
   ]
  },
  {
   "cell_type": "code",
   "execution_count": null,
   "metadata": {},
   "outputs": [],
   "source": [
    "#Plot the singular values\n",
    "\n",
    "#your code here"
   ]
  },
  {
   "cell_type": "code",
   "execution_count": null,
   "metadata": {},
   "outputs": [],
   "source": [
    "#Plot the data, color-coded by category, projected onto the first 2 principle components\n",
    "\n",
    "#your code here"
   ]
  },
  {
   "cell_type": "code",
   "execution_count": null,
   "metadata": {},
   "outputs": [],
   "source": [
    "#Plot the data, color-coded by category, projected onto the LAST 2 principle components. Is this as helpful?\n",
    "\n",
    "#your code here"
   ]
  },
  {
   "cell_type": "code",
   "execution_count": null,
   "metadata": {},
   "outputs": [],
   "source": [
    "#Now plot the first 3 principal components in a 3D plot and rotate it around\n",
    "\n",
    "#your code here"
   ]
  },
  {
   "cell_type": "markdown",
   "metadata": {},
   "source": [
    "## 5. Dimensionality reduction via PCA: Reaching task\n",
    "Now, lets use PCA to analyze neural activity in motor cortex of monkeys during a reaching task. First, load the reaching data set:"
   ]
  },
  {
   "cell_type": "code",
   "execution_count": null,
   "metadata": {},
   "outputs": [],
   "source": [
    "ReachData = loadmat('ReachData.mat')"
   ]
  },
  {
   "cell_type": "code",
   "execution_count": null,
   "metadata": {},
   "outputs": [],
   "source": [
    "#You're on your own! Use tools from previous problems to explore these data."
   ]
  }
 ],
 "metadata": {
  "colab": {
   "name": "Lab_3_Python_Solutions.ipynb",
   "provenance": []
  },
  "kernelspec": {
   "display_name": "Python 3",
   "language": "python",
   "name": "python3"
  },
  "language_info": {
   "codemirror_mode": {
    "name": "ipython",
    "version": 3
   },
   "file_extension": ".py",
   "mimetype": "text/x-python",
   "name": "python",
   "nbconvert_exporter": "python",
   "pygments_lexer": "ipython3",
   "version": "3.7.6"
  }
 },
 "nbformat": 4,
 "nbformat_minor": 1
}
