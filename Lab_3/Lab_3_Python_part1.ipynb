{
 "cells": [
  {
   "cell_type": "markdown",
   "metadata": {},
   "source": [
    "# 1a. Linear Regression: Visual Neuron\n",
    "\n",
    "In this section, we will model the response of a simulated neuron responding to the luminance of a visual stimulus, and characterize its \"spiking\" with linear regression."
   ]
  },
  {
   "cell_type": "code",
   "execution_count": 1,
   "metadata": {
    "executionInfo": {
     "elapsed": 308,
     "status": "ok",
     "timestamp": 1633010192088,
     "user": {
      "displayName": "Owen Marschall",
      "photoUrl": "https://lh3.googleusercontent.com/a/default-user=s64",
      "userId": "06541893158444459522"
     },
     "user_tz": 240
    },
    "id": "nr2-bTcl_H7X"
   },
   "outputs": [],
   "source": [
    "import numpy as np\n",
    "import matplotlib.pyplot as plt\n",
    "from scipy.io import loadmat\n",
    "import random\n",
    "random.seed(2)"
   ]
  },
  {
   "cell_type": "markdown",
   "metadata": {},
   "source": [
    "Create test data simulating a neuron firing in response to a light stimulus:"
   ]
  },
  {
   "cell_type": "code",
   "execution_count": 2,
   "metadata": {},
   "outputs": [],
   "source": [
    "# The response will have arbitrary units to represent input intensities\n",
    "luminance = np.array([list(range(1,11))]).T"
   ]
  },
  {
   "cell_type": "markdown",
   "metadata": {},
   "source": [
    "What is the spike response to different luminance? Model it as a linear amplification plus baseline and noise. Include a term to introduce experimental error to random trials."
   ]
  },
  {
   "cell_type": "code",
   "execution_count": 3,
   "metadata": {},
   "outputs": [],
   "source": [
    "baseline, noise, amp = 10, 2, 2\n",
    "experimentalError = (np.random.rand(10,1)>.5)*np.random.randn(10,1)*5\n",
    "spikes = (amp * luminance + baseline + np.random.randn(len(luminance),1)*noise) + experimentalError "
   ]
  },
  {
   "cell_type": "code",
   "execution_count": 44,
   "metadata": {},
   "outputs": [
    {
     "data": {
      "text/plain": [
       "(0.0, 43.589115350464205)"
      ]
     },
     "execution_count": 44,
     "metadata": {},
     "output_type": "execute_result"
    },
    {
     "data": {
      "image/png": "[encoded data removed]",
      "text/plain": [
       "<Figure size 432x288 with 1 Axes>"
      ]
     },
     "metadata": {
      "needs_background": "light"
     },
     "output_type": "display_data"
    }
   ],
   "source": [
    "#plot luminance vs Spikes\n",
    "f1, ax = plt.subplots(nrows=1, ncols=1)\n",
    "plt.scatter(luminance, spikes, c = 'k',s = 100, ); \n",
    "plt.xlabel('Luminance'); plt.ylabel('Spikes')\n",
    "plt.xlim([0, 11]); plt.ylim([0, max(spikes)[0]+10])"
   ]
  },
  {
   "cell_type": "markdown",
   "metadata": {},
   "source": [
    "Find a value of beta (i.e., a slope of the regression line) such that when it's multiplied to each of the luminance values, we minimize the distance to the actual measurements (i.e., we look for $\\beta_{opt}$ which minimizes $||\\overrightarrow{y} - \\beta_{Opt} *\\overrightarrow{x}||^2$)"
   ]
  },
  {
   "cell_type": "code",
   "execution_count": 4,
   "metadata": {},
   "outputs": [],
   "source": [
    "#YOUR CODE STARTS HERE\n",
    "#Find betaOpt (optimal beta) via SVD!\n",
    "#Note that unlike MATLAB, when you do svd, it returns u, s, v; in Python, it returns u, s, v trasponsed!\n",
    "u, s_diag, v_transpose = \n",
    "#a rough pseudo-inverse of S: verify by comparing it to pinv(s)\n",
    "s       = \n",
    "sInv    = \n",
    "betaOpt = \n",
    "print(betaOpt)"
   ]
  },
  {
   "cell_type": "markdown",
   "metadata": {},
   "source": [
    "Now that we have our optimal weight to scale each luminance value, how well does our beta do at predicting the spikes? "
   ]
  },
  {
   "cell_type": "code",
   "execution_count": 5,
   "metadata": {},
   "outputs": [],
   "source": [
    "#our prediction is multiplying each luminance value by beta\n",
    "prediction   = luminance @ betaOpt\n",
    "#get distance between measured spikes and our model prediction\n",
    "predError    = spikes - prediction\n",
    "#get the squared distance\n",
    "predErrorOpt = predError.T @ predError\n",
    "print(predErrorOpt)"
   ]
  },
  {
   "cell_type": "code",
   "execution_count": 8,
   "metadata": {},
   "outputs": [],
   "source": [
    "#Plot our prediction\n",
    "f1, ax = plt.subplots(nrows=1, ncols=1)\n",
    "plt.scatter(luminance, spikes, c = 'k',s = 100, )\n",
    "plt.plot(luminance, prediction, c = 'k', lw = 3)\n",
    "plt.xlabel('Luminance'); plt.ylabel('Spikes')\n",
    "plt.xlim([0, 11]); plt.ylim([0, max(spikes)[0]+10])\n",
    "plt.legend({'data', 'linear reg, squared error = %.4f' % predErrorOpt[0][0]})"
   ]
  },
  {
   "cell_type": "markdown",
   "metadata": {},
   "source": [
    "Was this the best beta? Test a range of other beta values to confirm that your $\\beta$ truly\n",
    "minimizes $||\\overrightarrow{y} - \\beta_{Opt} * \\overrightarrow{x}||^2$"
   ]
  },
  {
   "cell_type": "code",
   "execution_count": 9,
   "metadata": {},
   "outputs": [],
   "source": [
    "#Try 200 betas over a range of 0:2*betaOpt\n",
    "numBeta = 200\n",
    "testBetas = np.linspace(0, betaOpt[0][0]*2, numBeta)\n",
    "#initialize \n",
    "sqrError = np.empty((1,numBeta))\n",
    "for ii in range(numBeta):\n",
    "    prediction = testBetas[ii]*luminance\n",
    "    sqrError[0][ii] = (prediction-spikes).T @ (prediction-spikes)"
   ]
  },
  {
   "cell_type": "code",
   "execution_count": 11,
   "metadata": {},
   "outputs": [
    {
     "name": "stdout",
     "output_type": "stream",
     "text": [
      "\n"
     ]
    }
   ],
   "source": [
    "#now check if predErrorOpt is indeed optimal:\n",
    "if min(sqrError[0]) >= predErrorOpt:\n",
    "   #if the closest error you got by force was no smaller than your calculated beta opt....\n",
    "   print('seems like we found a great solution')"
   ]
  },
  {
   "cell_type": "code",
   "execution_count": 12,
   "metadata": {},
   "outputs": [],
   "source": [
    "# Now plot the error for different betas\n",
    "f2, ax = plt.subplots(nrows=1, ncols=1)\n",
    "#plot the error of your set of test betas\n",
    "plt.plot(testBetas,sqrError[0],c = 'b', lw = 3)\n",
    "plt.plot([betaOpt[0][0], betaOpt[0][0]], [0, max(sqrError[0])], c ='r', lw = 2)\n",
    "plt.xlabel('Beta'); plt.ylabel('Error metric')"
   ]
  },
  {
   "cell_type": "markdown",
   "metadata": {
    "id": "aYWYjbQ3AWeY"
   },
   "source": []
  },
  {
   "cell_type": "markdown",
   "metadata": {},
   "source": [
    "# 1b. Multiple linear regression: visual neuron model with y-intercept\n",
    "\n",
    "What if we would like to add a y-intercept? We can do this with multiple linear regression if we model our independent variable (x) as a matrix whose columns contain the x values of the first order polynomial \n",
    "\n",
    "$$y_{\\text{Predicted}} = \\beta_0* x_0 + \\beta_1*x_1.$$ \n",
    "\n",
    "Solving this multiple linear regression will produce two beta values, $\\beta_0$ (scaling the y intercept term) and Beta1 (scaling the slope of the regression line)."
   ]
  },
  {
   "cell_type": "code",
   "execution_count": 13,
   "metadata": {},
   "outputs": [],
   "source": [
    "#Create your regressor matrix and calculate the optimal betas with linear algebra\n",
    "#create your \"multivariate\" data matrix X (containing x^0 and x^1 as columns)\n",
    "\n",
    "#YOUR CODE STARTS HERE\n",
    "X = "
   ]
  },
  {
   "cell_type": "code",
   "execution_count": 14,
   "metadata": {},
   "outputs": [],
   "source": [
    "#Calculate betaOpt with the svd\n",
    "U, S_diag, V_transpose = \n",
    "SInv = \n",
    "betaOptYInt = \n",
    "print(betaOptYInt)"
   ]
  },
  {
   "cell_type": "markdown",
   "metadata": {},
   "source": [
    "Now that we have our optimal weight to scale each luminance value, and our y-interecpt, how well does our beta (now a vector) do at predicting the spikes? "
   ]
  },
  {
   "cell_type": "code",
   "execution_count": 15,
   "metadata": {},
   "outputs": [],
   "source": [
    "#YOUR CODE STARTS HERE\n",
    "#our prediction is multiplying each luminance value by beta\n",
    "predictionYInt = \n",
    "#get distance between measured spikes and our model prediction\n",
    "predErrorYInt = \n",
    "#get the squared distance\n",
    "predErrorOptYInt = \n",
    "print(predErrorOptYInt)"
   ]
  },
  {
   "cell_type": "code",
   "execution_count": 16,
   "metadata": {},
   "outputs": [],
   "source": [
    "#Plot our prediction with error val\n",
    "f1, ax = plt.subplots(nrows=1, ncols=1)\n",
    "plt.scatter(luminance, spikes, c = 'k',s = 100, )\n",
    "plt.plot(luminance, prediction, c = 'k', lw = 3)\n",
    "plt.plot(luminance, predictionYInt, c = 'r', lw = 3)\n",
    "plt.xlabel('Luminance'); plt.ylabel('Spikes')\n",
    "plt.xlim([0, 11]); plt.ylim([0, max(spikes)[0]+10])\n",
    "plt.legend({'data', 'linear reg, squared error = %.4f' % predErrorOpt[0][0],\n",
    "            'linear reg w/ y-int, squared error = %.4f' % predErrorOptYInt[0][0]})\n",
    "plt.show()"
   ]
  },
  {
   "cell_type": "markdown",
   "metadata": {},
   "source": [
    "How did our beta do? Test it agaist manually first, create a meshgrid of beta values (equivalent to a 2D version of the beta vector from the last section)."
   ]
  },
  {
   "cell_type": "code",
   "execution_count": 17,
   "metadata": {},
   "outputs": [],
   "source": [
    "nBetas = 100\n",
    "beta0  = np.linspace(-betaOptYInt[0][0],betaOptYInt[0][0]*2, nBetas)\n",
    "beta1  = np.linspace(1,betaOptYInt[1][0]*2, nBetas)"
   ]
  },
  {
   "cell_type": "code",
   "execution_count": 18,
   "metadata": {},
   "outputs": [],
   "source": [
    "#now compute the errors\n",
    "allerr = np.empty((nBetas,nBetas))\n",
    "for ii in range(nBetas):\n",
    "    for jj in range(nBetas):\n",
    "        bb = np.array([[beta0[ii],beta1[jj]]]).T\n",
    "        sqrErr = (X @ bb- spikes).T @ (X @ bb- spikes)\n",
    "        allerr[ii][jj] = sqrErr[0][0]"
   ]
  },
  {
   "cell_type": "markdown",
   "metadata": {},
   "source": [
    "plot the contour and compare the old prediction error (without the y-int) with the new prediction error - did you do any better? what does it mean for our neuron that the model with the y-intercept has lower error?"
   ]
  },
  {
   "cell_type": "code",
   "execution_count": 20,
   "metadata": {},
   "outputs": [],
   "source": [
    "fig3 = plt.figure()\n",
    "ax = plt.axes(projection='3d')\n",
    "betaX,betaY = np.meshgrid(beta0,beta1);\n",
    "ax.plot_surface(betaX, betaY, allerr.T, cmap='viridis', edgecolor='none',alpha=0.5)\n",
    "\n",
    "ax.scatter(betaOptYInt[0][0], betaOptYInt[1][0], predErrorOptYInt, c='r', marker='o')\n",
    "ax.scatter(0, betaOpt, predErrorOpt, c ='b', marker='o')\n",
    "ax.set_xlabel('X Label')\n",
    "ax.set_ylabel('Y Label')\n",
    "ax.set_zlabel('Z Label')\n"
   ]
  },
  {
   "cell_type": "markdown",
   "metadata": {},
   "source": [
    "# 2a. Multiple linear regression: auditory neuron\n",
    "Now let's try an example of multiple linear regression. The structure mult_linreg contains three fields: freq1, freq2 (the dB intensities of two frequencies of sound stimuli) and response, the response of an auditory neuron. "
   ]
  },
  {
   "cell_type": "code",
   "execution_count": 22,
   "metadata": {},
   "outputs": [],
   "source": [
    "#First, load and plot the data ( in 3D!)\n",
    "#add path if needed\n",
    "import os\n",
    "path_str = \"/Users/hff/Desktop/NYU/5th year/Fall semester/MathTools/Labs/Lab3\"\n",
    "path = path_str\n",
    "os.chdir(path)\n",
    "\n",
    "x_raw = loadmat('mult_linreg.mat')\n",
    "x = x_raw['data']\n",
    "data_freq1,data_freq2,data_resp = np.array(x[0][0][0]), np.array(x[0][0][1]), np.array(x[0][0][2])"
   ]
  },
  {
   "cell_type": "code",
   "execution_count": 23,
   "metadata": {},
   "outputs": [],
   "source": [
    "fig5 = plt.figure()\n",
    "ax = plt.axes(projection='3d')\n",
    "ax.scatter(data_freq1, data_freq2, data_resp, c='b', marker='o')\n",
    "ax.set_xlabel('Freq 1')\n",
    "ax.set_ylabel('Freq 2')\n",
    "ax.set_zlabel('Firing rate')\n"
   ]
  },
  {
   "cell_type": "code",
   "execution_count": 24,
   "metadata": {},
   "outputs": [],
   "source": [
    "#YOUR CODE STARTS HERE\n",
    "#Perform linear regression\n",
    "data_freq1_2 = \n",
    "U,S_diag,V_transpose = \n",
    "SInv = \n",
    "betaOpt = \n",
    "print(betaOpt)"
   ]
  },
  {
   "cell_type": "code",
   "execution_count": 25,
   "metadata": {},
   "outputs": [],
   "source": [
    "#YOUR CODE STARTS HERE\n",
    "#Calculate error between the prediction frorm our model, and the measured values\n",
    "#our prediction is multiplying each luminance value by beta\n",
    "prediction = \n",
    "#get distance between measured spikes and our model prediction\n",
    "predError = \n",
    "#get the squared distance\n",
    "predErrorOpt = "
   ]
  },
  {
   "cell_type": "code",
   "execution_count": 27,
   "metadata": {},
   "outputs": [],
   "source": [
    "#plot our linear model (it's a plane!)\n",
    "x = np.linspace(0, max(data_freq1*1.2),100).T\n",
    "y = np.linspace(0, max(data_freq2*1.2),100).T\n",
    "\n",
    "xx, yy = np.meshgrid(x,y);\n",
    "zz = betaOpt[0][0]*xx + betaOpt[1][0]*yy;\n",
    "\n",
    "fig5 = plt.figure()\n",
    "ax = plt.axes(projection='3d')\n",
    "ax.scatter(data_freq1, data_freq2, data_resp, c='b', marker='o')\n",
    "ax.plot_surface(xx,yy,zz, cmap='viridis', edgecolor='none',alpha=0.5)\n",
    "ax.set_xlabel('Freq 1')\n",
    "ax.set_ylabel('Freq 2')\n",
    "ax.set_zlabel('Firing rate')"
   ]
  },
  {
   "cell_type": "code",
   "execution_count": 28,
   "metadata": {},
   "outputs": [],
   "source": [
    "#Was this the best beta?\n",
    "#first, create vectors of your possible betas\n",
    "nBetas = 200\n",
    "\n",
    "beta0 = np.linspace(0,betaOpt[0]*2,nBetas)\n",
    "beta1 = np.linspace(0,betaOpt[1]*2,nBetas)\n",
    "\n",
    "#now compute the errors\n",
    "allerr = np.empty((nBetas,nBetas))\n",
    "for ii in range(nBetas):\n",
    "    for jj in range(nBetas):\n",
    "        bb = np.array([[beta0[ii][0], beta1[jj][0]]]).T\n",
    "        sqrErr = (data_freq1_2 @ bb - data_resp).T @ (data_freq1_2 @ bb- data_resp)\n",
    "        allerr[ii][jj] = sqrErr[0][0]\n"
   ]
  },
  {
   "cell_type": "code",
   "execution_count": 29,
   "metadata": {},
   "outputs": [],
   "source": [
    "fig6 = plt.figure()\n",
    "ax = plt.axes(projection='3d')\n",
    "betaX, betaY = np.meshgrid(beta0,beta1)\n",
    "ax.plot_surface(betaX, betaY,allerr.T, cmap='viridis', edgecolor='none',alpha=0.5)\n",
    "ax.scatter(betaOpt[0][0], betaOpt[1][0], predErrorOpt, c='r', marker='o')\n",
    "ax.set_xlabel('Freq 1')\n",
    "ax.set_ylabel('Freq 2')\n",
    "ax.set_zlabel('Firing rate')"
   ]
  },
  {
   "cell_type": "markdown",
   "metadata": {},
   "source": [
    "# 2b. Multiple Linear Regression: Auditory neuron with baseline firing\n",
    "\n",
    "What if we suspect the auditory neuron has some baseline firing rate? We might want to include an intercept term in our regression. We can do this the same way we added an intercept term to the standard linear regression: by adding an $x_0$ term to our linear regression."
   ]
  },
  {
   "cell_type": "code",
   "execution_count": 30,
   "metadata": {},
   "outputs": [],
   "source": [
    "#YOUR CODE STARTS HERE\n",
    "#Linear Regression \n",
    "newX = \n",
    "U,S_diag,V_transpose =\n",
    "SInv = \n",
    "betaOpt = \n",
    "print(betaOpt)"
   ]
  },
  {
   "cell_type": "code",
   "execution_count": 31,
   "metadata": {},
   "outputs": [],
   "source": [
    "#Calculate error between the prediction frorm our model, and the measured values\n",
    "prediction = \n",
    "#get distance between measured spikes and our model prediction\n",
    "predError = \n",
    "#get the squared distance\n",
    "predErrorOpt = "
   ]
  },
  {
   "cell_type": "code",
   "execution_count": 33,
   "metadata": {},
   "outputs": [],
   "source": [
    "#plot our linear model (it's a plane!)\n",
    "newBeta0 = np.linspace(0, max(data_freq1)*1.2,nBetas).T\n",
    "newBeta1 = np.linspace(0, max(data_freq2)*1.2,nBetas).T\n",
    "\n",
    "newBetaX,newBetaY = np.meshgrid(newBeta0,newBeta1);\n",
    "newS = betaOpt[0][0]*np.ones(newBetaX.shape)+ betaOpt[1][0]*newBetaX + betaOpt[2][0]*newBetaY\n",
    "\n",
    "fig7 = plt.figure()\n",
    "ax = plt.axes(projection='3d')\n",
    "ax.plot_surface(newBetaX,newBetaY,newS, cmap='viridis', edgecolor='none',alpha=0.5)\n"
   ]
  }
 ],
 "metadata": {
  "colab": {
   "name": "Lab_3_Python_Solutions.ipynb",
   "provenance": []
  },
  "kernelspec": {
   "display_name": "Python 3",
   "language": "python",
   "name": "python3"
  },
  "language_info": {
   "codemirror_mode": {
    "name": "ipython",
    "version": 3
   },
   "file_extension": ".py",
   "mimetype": "text/x-python",
   "name": "python",
   "nbconvert_exporter": "python",
   "pygments_lexer": "ipython3",
   "version": "3.8.5"
  }
 },
 "nbformat": 4,
 "nbformat_minor": 1
}
