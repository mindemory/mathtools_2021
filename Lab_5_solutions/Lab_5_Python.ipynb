{
 "cells": [
  {
   "cell_type": "code",
   "execution_count": null,
   "metadata": {},
   "outputs": [],
   "source": [
    "import numpy as np\n",
    "from scipy.fft import fft\n",
    "import matplotlib.pyplot as plt\n",
    "%matplotlib inline"
   ]
  },
  {
   "cell_type": "markdown",
   "metadata": {},
   "source": [
    "# The Fourier Transform\n",
    "\n",
    "\"Any signal can be represented as a sum of sines and cosines of different frequencies.\"\n",
    "\n",
    "One way to convince yourself of this fact is to think about linear algebra. If a signal is just a vector in $N$ dimensions, say for $N$ discrete samples of a signal in time, this Fourier decomposition can simply be thought of as a change in coordinates. Consider the set of vectors\n",
    "\n",
    "$$\n",
    "\\begin{pmatrix}\n",
    "1 \\\\\n",
    "1 \\\\\n",
    "\\vdots\\\\\n",
    "1\n",
    "\\end{pmatrix},\n",
    "\\begin{pmatrix}\n",
    "\\cos(2\\pi \\times 1 \\frac{0}{N}) \\\\\n",
    "\\cos(2\\pi \\times 1 \\frac{1}{N}) \\\\\n",
    "\\vdots\\\\\n",
    "\\cos(2\\pi \\times 1 \\frac{N-1}{N})\n",
    "\\end{pmatrix},\n",
    "\\begin{pmatrix}\n",
    "\\cos(2\\pi \\times 2 \\frac{0}{N}) \\\\\n",
    "\\cos(2\\pi \\times 2 \\frac{1}{N}) \\\\\n",
    "\\vdots\\\\\n",
    "\\cos(2\\pi \\times 2 \\frac{N-1}{N})\n",
    "\\end{pmatrix},\n",
    "\\cdots,\n",
    "\\begin{pmatrix}\n",
    "\\cos(2\\pi \\times N/2 \\frac{0}{N}) \\\\\n",
    "\\cos(2\\pi \\times N/2 \\frac{1}{N}) \\\\\n",
    "\\vdots\\\\\n",
    "\\cos(2\\pi \\times N/2 \\frac{N-1}{N})\n",
    "\\end{pmatrix},\n",
    "$$\n",
    "$$\n",
    "\\begin{pmatrix}\n",
    "\\sin(2\\pi \\times 1 \\frac{0}{N}) \\\\\n",
    "\\sin(2\\pi \\times 1 \\frac{1}{N}) \\\\\n",
    "\\vdots\\\\\n",
    "\\sin(2\\pi \\times 1 \\frac{N-1}{N})\n",
    "\\end{pmatrix},\n",
    "\\begin{pmatrix}\n",
    "\\sin(2\\pi \\times 2 \\frac{0}{N}) \\\\\n",
    "\\sin(2\\pi \\times 2 \\frac{1}{N}) \\\\\n",
    "\\vdots\\\\\n",
    "\\sin(2\\pi \\times 2 \\frac{N-1}{N})\n",
    "\\end{pmatrix},\n",
    "\\cdots,\n",
    "\\begin{pmatrix}\n",
    "\\sin(2\\pi \\times (N/2 - 1) \\frac{0}{N}) \\\\\n",
    "\\sin(2\\pi \\times (N/2 - 1) \\frac{1}{N}) \\\\\n",
    "\\vdots\\\\\n",
    "\\sin(2\\pi \\times (N/2 - 1) \\frac{N-1}{N})\n",
    "\\end{pmatrix}\n",
    "$$\n",
    "\n",
    "The general formula is (other than the constant $1$s and the extra cosine at the end)\n",
    "\n",
    "$$\\left[\\cos\\left(\\frac{2\\pi k n}{N}\\right)\\right], \\left[\\sin\\left(\\frac{2\\pi k n}{N}\\right)\\right]$$\n",
    "\n",
    "where $k$ is frequency. This might be a lot to process all at once, but it's just a discretized set of waves, where the independent variable defining the wave runs along the column axis. All frequencies up to N/2 are used, and by including both sine and cosine waves, we get to N total vectors. We call this set of vectors the \"Fourier basis.\"\n",
    "\n",
    "Just like how we can represent an N-dimensional signal as a sum of the N basis vectors $[1, 0, \\cdots, 0], [0, 1, \\cdots, 0], \\cdots$ etc., we can also represent it as a sum of these different N basis vectors defined above. All we need for that to be true is for the vectors to be *linearly independent*, which is a fancy way of saying \"not redundant\"---no vector in this finite set can be a combination of the others (if it were, it wouldn't offer anything new). In fact, not only is that true for the Fourier basis, something even stronger is: these vectors are mutually *orthogonal*! "
   ]
  },
  {
   "cell_type": "code",
   "execution_count": null,
   "metadata": {},
   "outputs": [],
   "source": [
    "#Exercise 1: Define the Fourier basis yourself\n",
    "# - Decide on a dimensionality of the signal N\n",
    "# - Then define each vector and store them as rows of a matrix\n",
    "# - How do we want to order them? All the cosines then all the sines,\n",
    "#   or do we want cosines and sines of the same frequency to be\n",
    "#   next to each other? Doens't really matter as long as we know what\n",
    "#   it is for interpretation later. (Recommend pairing up cosines and\n",
    "#   sines though.)\n",
    "\n",
    "#Note: ***You can assume N is even**! Odd case is slightly different and annoying\n",
    "#so don't worry about it.\n",
    "\n",
    "def get_Fourier_basis(N):\n",
    "    Fourier_basis = []\n",
    "    n = np.arange(0, N)\n",
    "    for k in range(N):\n",
    "\n",
    "        if k == 0:\n",
    "            f = np.ones(N)    \n",
    "        elif k % 2 == 1:\n",
    "            #your code here\n",
    "        elif k % 2 == 0:\n",
    "            #your code here\n",
    "            f = np.sin(2 * np.pi * freq * n / N)\n",
    "\n",
    "        Fourier_basis.append(f)\n",
    "\n",
    "    Fourier_basis = np.array(Fourier_basis)    \n",
    "    return Fourier_basis\n",
    "Fourier_basis = get_Fourier_basis(100)"
   ]
  },
  {
   "cell_type": "code",
   "execution_count": null,
   "metadata": {},
   "outputs": [],
   "source": [
    "#Visualize this basis a matrix for fun\n",
    "plt.imshow(Fourier_basis)\n",
    "plt.ylabel('Fourier vector')\n",
    "plt.xlabel('Entry within vector')"
   ]
  },
  {
   "cell_type": "code",
   "execution_count": null,
   "metadata": {},
   "outputs": [],
   "source": [
    "#Are these unit vectors? Take the norm of each row to investigate yourself\n",
    "\n",
    "#your code here"
   ]
  },
  {
   "cell_type": "code",
   "execution_count": null,
   "metadata": {},
   "outputs": [],
   "source": [
    "#Exercise 2: Define a function that outputs the basis frequences for a given N\n",
    "#The purpose is to have them available to plot on the x-axis. Make sure\n",
    "#the result matches the way you defined Fourier_basis above!\n",
    "#(You can assume N is even so we can stick to linear algebra and not have\n",
    "# to dive into arithemtic :p)\n",
    "#For example, if N = 10, we would have frequenices of [0, 1, 1, 2, 2, 3, 3, 4, 4, 5]\n",
    "def get_frequencies(N):\n",
    "    \n",
    "    #your code here"
   ]
  },
  {
   "cell_type": "code",
   "execution_count": null,
   "metadata": {},
   "outputs": [],
   "source": [
    "#Let's apply this to a signal\n",
    "N = 100\n",
    "n = np.arange(0, N) #All time points in an array\n",
    "amp_1 = 0.5\n",
    "freq_1 = 6\n",
    "amp_2 = 1.3\n",
    "freq_2 = 10\n",
    "x = amp_1 * np.sin(2 * np.pi * freq_1 * n / N) + amp_2 * np.sin(2 * np.pi * freq_2 * n / N)\n",
    "\n",
    "#Let's plot each of these sinusoids individually as well as their sum\n",
    "\n",
    "fig, ax = plt.subplots(3, 1)\n",
    "ax[0].plot(amp_1 * np.sin(2 * np.pi * freq_1 * n / N))\n",
    "ax[1].plot(amp_2 * np.sin(2 * np.pi * freq_2 * n / N))\n",
    "ax[2].plot(x)\n",
    "for i in range(3): ax[i].set_ylim([-2, 2]); ax[i].set_xticks([]); ax[i].axis('off')\n",
    "ax[0].set_title('Pure Sine Wave 1')\n",
    "ax[1].set_title('Pure Sine Wave 2')\n",
    "ax[2].set_title('Combined Wave')\n",
    "\n",
    "#Transform the signal x using the Fourier basis you computed\n",
    "#(think projection!) and plot with frequencies on the x-axis\n",
    "#according to your function above\n",
    "\n",
    "#your code here\n",
    "\n",
    "#Note that since we doubled-up sines and cosines, every frequency\n",
    "#on the x-axis is paired with an identical frequency for the other\n",
    "#sine/cosine. Let's illustrate with a different signal:\n",
    "\n",
    "N = 100\n",
    "n = np.arange(0, N)\n",
    "#Different set of amplitudes and frequencies\n",
    "amp_1 = 2\n",
    "freq_1 = 10\n",
    "amp_2 = 0.7\n",
    "freq_2 = 10\n",
    "amp_3 = 2\n",
    "freq_3 = 11\n",
    "x = (amp_1 * np.cos(2 * np.pi * freq_1 * n / N) + amp_2 * np.sin(2 * np.pi * freq_2 * n / N) +\n",
    "     amp_3 * np.cos(2 * np.pi * freq_3 * n/ N))\n",
    "\n",
    "#your code here"
   ]
  },
  {
   "cell_type": "code",
   "execution_count": null,
   "metadata": {},
   "outputs": [],
   "source": [
    "#Let's try signals that are not sparse combinations of sines and cosines\n",
    "N = 100\n",
    "sigma = 1\n",
    "x = np.random.normal(0, sigma, N) #Random gaussian noise\n",
    "Fourier_basis = get_Fourier_basis(N)\n",
    "\n",
    "#your code here"
   ]
  },
  {
   "cell_type": "code",
   "execution_count": null,
   "metadata": {},
   "outputs": [],
   "source": [
    "#Exercise 3: Define your own signals as mixes of sines and cosines--or\n",
    "#as anything you want! Transform them under the Fourier basis\n",
    "\n",
    "#your code here"
   ]
  },
  {
   "cell_type": "markdown",
   "metadata": {},
   "source": [
    "# White noise\n",
    "\n",
    "What if we put in a signal with absolutely no structure to it? That is, each element $x[n]$ is an identically, independently sampled number from a Gaussian distribution $\\mathcal{N}(0, 1)$, as we did above. What should we expect for the Fourier transform?"
   ]
  },
  {
   "cell_type": "markdown",
   "metadata": {},
   "source": [
    "From the example above with Gaussian noise, this looks \"flat\" but it's hard to tell, especially with the sines and cosines of the same frequency \"scrunched up\" next to each other. What'd be nice is if we could get a cleaner graph telling us how much general sine and cosine action we have going on at each frequency."
   ]
  },
  {
   "cell_type": "markdown",
   "metadata": {},
   "source": [
    "# Signal Power\n",
    "At a given frequency, the signal can be decomposed into its cosine and sine component at that frequency. These are really only different by a $\\pi / 2$ phase shift. What if we want to know the overall \"power\" at that frequency? We don't care whether it's positive or negative, and we don't care whether it's contained in the sines or cosines, we just want to know how much action is happening at each frequency. This is important for say analyzing the spectral content of sunlight--we don't care the phase of the UV radiation, we just want to know how much UV radiation is in there. To do this, we can simply compute:\n",
    "\n",
    "$$P(f) = (\\vec{x} \\cdot \\cos(2\\pi f \\vec{n} / N))^2 + (\\vec{x} \\cdot \\sin(2\\pi f \\vec{n} / N))^2$$\n",
    "\n",
    "But we already have these projection values from the Fourier transformation, so we just need to select, square, and add up the right pairs. Here is a function below that does just that."
   ]
  },
  {
   "cell_type": "code",
   "execution_count": null,
   "metadata": {},
   "outputs": [],
   "source": [
    "#Compute the signal power\n",
    "def get_signal_power(F_x):\n",
    "    \n",
    "    #Remove the first and last entries \n",
    "    F_x_power = F_x[1:-1]\n",
    "    \n",
    "    #Pair up the sines and cosines of each \"middle\" frequency and take their squared\n",
    "    #norms as 2-vectors\n",
    "    F_x_power = np.square(F_x_power.reshape((-1, 2), order='C')).sum(axis=1)\n",
    "    \n",
    "    #Add the first and last entries' absolute values back in\n",
    "    F_x_power = np.hstack([np.abs(F_x[0]), F_x_power, np.abs(F_x[-1])])\n",
    "    \n",
    "    return F_x_power"
   ]
  },
  {
   "cell_type": "code",
   "execution_count": null,
   "metadata": {},
   "outputs": [],
   "source": [
    "#Plot the power of a white noise signal\n",
    "N = 1000\n",
    "sigma = 0.3\n",
    "x = np.random.normal(0, sigma, N) #white noise\n",
    "Fourier_basis = get_Fourier_basis(N)\n",
    "\n",
    "plt.figure()\n",
    "F_x = Fourier_basis.dot(x)\n",
    "F_x_power = get_signal_power(F_x)\n",
    "frequencies = np.arange(0, int(N/2) + 1)\n",
    "plt.plot(frequencies, F_x_power)"
   ]
  },
  {
   "cell_type": "markdown",
   "metadata": {},
   "source": [
    "Try this for different values of sigma, and rerun it repeatedly to get new random outcomes. What if we averaged the result over many trials of this--what would the shape of the spectrum be?"
   ]
  },
  {
   "cell_type": "code",
   "execution_count": null,
   "metadata": {},
   "outputs": [],
   "source": [
    "N_avg = 1000\n",
    "N = 1000\n",
    "sigma = 0.1\n",
    "Fourier_basis = get_Fourier_basis(N)\n",
    "power_spectra = []\n",
    "plt.figure()\n",
    "for i_trial in range(N_avg):\n",
    "    x = np.random.normal(0, sigma, N) #latest white noise sample\n",
    "    F_x = Fourier_basis.dot(x)\n",
    "    F_x_power = get_signal_power(F_x)\n",
    "    power_spectra.append(F_x_power)\n",
    "\n",
    "\n",
    "frequencies = np.arange(0, int(N/2) + 1)\n",
    "plt.plot(frequencies, sum(power_spectra)/len(power_spectra))"
   ]
  },
  {
   "cell_type": "markdown",
   "metadata": {},
   "source": [
    "# The Fast Fourier Transform\n",
    "We've got a roller coaster of bad news and good news.\n",
    "\n",
    "Bad news:\\\n",
    "-The way we're doing the Fourier transform doesn't scale efficiently, as we have to multiply $N^2$ numbers to do this matrix-vector product, and that's assuming the Fourier basis for our signal is already generated and ready to go. For signals with high sampling rates, $N$ can be quite huge.\\\n",
    "\\\n",
    "Good news:\\\n",
    "-There is a method, called the *Fast Fourier Transform* that manages to do this same computation in $N \\log N$ time! For big $N$, this is an *enormous* speed-up.\\\n",
    "\\\n",
    "Back to bad news:\\\n",
    "-To compute via FFT in Python, we have to use a black-box method and understand its slightly counterintuitive way of reporting the output. And this involves complex numbers. This may sound scary, but it's just a way of organizing sine and cosine waves.\n"
   ]
  },
  {
   "cell_type": "code",
   "execution_count": null,
   "metadata": {},
   "outputs": [],
   "source": [
    "#Try out the scipy fft function on a signal and see what you get\n",
    "from scipy.fft import fft\n",
    "\n",
    "N = 100\n",
    "n = np.arange(0, N) #All time points in an array\n",
    "amp_1 = 0.5\n",
    "freq_1 = 6\n",
    "amp_2 = 1.3\n",
    "freq_2 = 10\n",
    "x = amp_1 * np.sin(2 * np.pi * freq_1 * n / N) + amp_2 * np.sin(2 * np.pi * freq_2 * n / N)\n",
    "\n",
    "F_x = fft(x)\n",
    "#print a few values of this output, what's it look like?\n",
    "print(F_x[:10])"
   ]
  },
  {
   "cell_type": "markdown",
   "metadata": {},
   "source": [
    "Oof, looks like we have some complex numbers in here. That's annoying, cause we only fed in real numbers!"
   ]
  },
  {
   "cell_type": "code",
   "execution_count": null,
   "metadata": {},
   "outputs": [],
   "source": [
    "#Try plotting the absolute values of these complex numbers\n",
    "plt.plot(np.abs(F_x))"
   ]
  },
  {
   "cell_type": "markdown",
   "metadata": {},
   "source": [
    "Okay that's better, and this reminds us of our graph from previously. But what could the x-axis possibly mean in this case? Why do we see the same \"spikes\" twice?"
   ]
  },
  {
   "cell_type": "markdown",
   "metadata": {},
   "source": [
    "# How the FFT works\n",
    "The FFT assumes you have a *complex* signal in $N$ dimensions. This is more (precisely twice as much more) information as in a real signal. And the output matches this increased information: the output of the FFT is an $N$-dimensional vector with complex entries. Specifically, the FFT finds the projections of the signal onto this set of N basis vectors:\n",
    "$$\n",
    "\\begin{pmatrix}\n",
    "e^{-2\\pi i k \\frac{0}{N}}\\\\\n",
    "e^{-2\\pi i k \\frac{1}{N}}\\\\\n",
    "\\vdots \\\\\n",
    "e^{-2\\pi i k \\frac{N-1}{N}}\\\\\n",
    "\\end{pmatrix} \\text{ for } k = 0, \\cdots, N - 1$$\n",
    "Why these? Short answer: mathematical elegance. We lose the immediate interpretability of pure cosines and sines as common sense \"waves,\" but we gain the ease of algebra that comes with complex exponentials. We'll see the payoff of this soon.\n",
    "\n",
    "#### But for now, how do we interpret this if we just want to keep things real?\n",
    "\n",
    "If you start with a real signal to begin with, the output is guaranteed to have certain symmetry properties. Thus you can discard part of the output that doesn't tell you anything new. In particular, the second half of the result doesn't tell us anything the first half doesn't. If $\\vec{x} \\in \\mathbb{R}^N$ is an $N$-dimensional vector with real entries, then\n",
    "\n",
    "$$\\vec{f} = \\text{fft}(\\vec{x}) \\in \\mathbb{C}^N$$\n",
    "\n",
    "has symmetries\n",
    "\n",
    "$$\\text{real}(f_k) = \\text{real}(f_{N-k})$$\n",
    "\n",
    "and\n",
    "\n",
    "$$\\text{imag}(f_k) = -\\text{imag}(f_{N-k})$$\n",
    "\n",
    "In words, if we flip the output along the middle of the x-axis (i.e. move $k$ to $N-k$), we get either the same real part or the negated imaginary part--in both cases, we *learn no new information*. So we can simply discard the second half of the signal. **Then the real part of the first half maps onto the cosines for our original Fourier transform, and the negative imaginary part maps onto the sines**. By extracing the real and imaginary parts (themselves both real!) of these signals, we get back to a fully real $N$-dimensional signal, as before.\n",
    "\n",
    "We'll get a feel for this on some examples below."
   ]
  },
  {
   "cell_type": "code",
   "execution_count": null,
   "metadata": {},
   "outputs": [],
   "source": [
    "#Exercise 4: Using complex numbers in numpy z = x + y * 1j, \n",
    "#define the Fourier basis as written above in the manner\n",
    "#we defined Fourier_basis before, as a matrix whose rows\n",
    "#are each individual basis vector.\n",
    "\n",
    "N = 100\n",
    "n = np.arange(0, N)\n",
    "F = []\n",
    "for k in range(N):\n",
    "    #your code here\n",
    "    #f = ??\n",
    "    F.append(f)\n",
    "F = np.array(F)"
   ]
  },
  {
   "cell_type": "code",
   "execution_count": null,
   "metadata": {},
   "outputs": [],
   "source": [
    "#Exercise 5: Define a signal and take its projection\n",
    "#onto this new Fourier basis. Verify that the output\n",
    "#is the same as that of the built-in fft function.\n",
    "#(Use \"linewidth\" argument in plotting function to\n",
    "# see that they plot right on top of each other)\n",
    "\n",
    "N = 100\n",
    "n = np.arange(0, N) #All time points in an array\n",
    "amp_1 = 0.5\n",
    "freq_1 = 6\n",
    "amp_2 = 1.3\n",
    "freq_2 = 15\n",
    "x = amp_1 * np.cos(2 * np.pi * freq_1 * n / N) + amp_2 * np.sin(2 * np.pi * freq_2 * n / N)\n",
    "\n",
    "#your code here"
   ]
  },
  {
   "cell_type": "code",
   "execution_count": null,
   "metadata": {},
   "outputs": [],
   "source": [
    "#Exercise 6: Now plot this same signal under our original Fourier basis. Can\n",
    "#you figure out how the result of this computation maps onto the complex case?\n",
    "#Explicitly extract the relevant quantities from the fft() result\n",
    "#and show that they are ultimately the same as the original Fourier transformation\n",
    "#when rearranged properly.\n",
    "\n",
    "#Define example signal with pure sine waves\n",
    "N = 100\n",
    "n = np.arange(0, N) #All time points in an array\n",
    "amp_1 = 0.5\n",
    "freq_1 = 6\n",
    "amp_2 = 1.3\n",
    "freq_2 = 10\n",
    "x = amp_1 * np.sin(2 * np.pi * freq_1 * n / N) + amp_2 * np.sin(2 * np.pi * freq_2 * n / N)\n",
    "\n",
    "#Get our original Fourier transform via our Fourier basis\n",
    "FB = get_Fourier_basis(N)\n",
    "original_F_x = FB.dot(x)\n",
    "#Get the Fourier transform as computed via FFT\n",
    "fft_F_x = fft(x)\n",
    "\n",
    "#Plot original\n",
    "plt.figure()\n",
    "plt.plot(get_frequencies(N), original_F_x)\n",
    "plt.title('Original Fourier Transform')\n",
    "plt.xlabel('Frequency')\n",
    "\n",
    "#Get our original Fourier transform via our Fourier basis\n",
    "FB = get_Fourier_basis(N)\n",
    "original_F_x = FB.dot(x)\n",
    "#Get the Fourier transform as computed via FFT\n",
    "fft_F_x = fft(x)\n",
    "\n",
    "#Plot original\n",
    "plt.figure()\n",
    "plt.plot(get_frequencies(N), original_F_x)\n",
    "plt.title('Original Fourier Transform')\n",
    "plt.xlabel('Frequency')\n",
    "\n",
    "#Plot fft rearranged\n",
    "#your code here\n",
    "\n",
    "#1. Extract only the first half (+ 1) of the signal\n",
    "\n",
    "#2. Get the cosine and sine weights as real and negative imaginary parts\n",
    "\n",
    "#3. Remove the first and last signals and concatenate the cosines and sines\n",
    "\n",
    "#4. Re-order the array so that cosines and sines of same\n",
    "#frequency are next to each other\n",
    "#[cos1, cos2, cos3, sin1, sin2, sin3] -> [cos1, sin1, cos2, sin2, cos3, sin3]\n",
    "\n",
    "#5. Add the first and last cosine and sine back in\n",
    "#fft_remapped = ???\n",
    "\n",
    "plt.figure()\n",
    "plt.plot(get_frequencies(N), fft_remapped)\n",
    "plt.title('Rearranged FFT Output')\n",
    "plt.xlabel('Frequency')\n"
   ]
  },
  {
   "cell_type": "markdown",
   "metadata": {},
   "source": [
    "# The Convolution Theorem (or Why Complex Numbers?)\n",
    "\n",
    "Well that was a bit of a pain, all that reshaping and extracting real numbers from the complex output just to match our first intuitive sense of what a Fourier transform. Why did we do it?\n",
    "\n",
    "The reason, simply, is that math with complex numbers gets really nice. Let's say you have a voltage $v[t] = \\cos(\\omega t)$ and you want to apply some linear, shift-invariant system to it $Lv[t]$. We learned from class that, due to the linearity and shift-invariance of the system $L$, the only possible change that can be made to $v[t]$ is an *amplitude change* $A(\\omega)$ and a *phase shift* $\\phi(\\omega)$:\n",
    "\n",
    "$$Lv[t] = A(\\omega) \\cos(\\omega t - \\phi(\\omega))$$\n",
    "\n",
    "This is pretty simple, but we can get even simpler. Instead of thinking of the phase shift as this awkward \"go inside the function argument and subtract by something\" operation we currently have going, **what if both the amplitude change and phase shift could be interpreted as a single multiplication?**\n",
    "\n",
    "To accomplish this, let's interpret $v[t]$ as the real part of a complex signal $z[t] = v[t] + y[t]i$. Complex signals mostly don't exist in nature, but they do exist in our minds. If we define $y[t] = \\sin(\\omega t)$, we can use the definition of a complex exponential to write\n",
    "\n",
    "$$z[t] = \\cos(\\omega t) + i \\sin(\\omega t) = e^{i \\omega t}$$\n",
    "\n",
    "Then imagine if we define action on $z[t]$ via $L$ as multiplying by the complex number $A(\\omega)e^{-i\\phi(\\omega)}$. What happens?\n",
    "\n",
    "$$Lz[t] = A(\\omega)e^{-i\\phi(\\omega)} e^{i \\omega t} = A(\\omega)e^{i(\\omega t- \\phi(\\omega))} = A(\\omega)\\left[ \\cos(\\omega t - \\phi(\\omega)) + i \\sin(\\omega t - \\phi(\\omega))\\right]$$\n",
    "\n",
    "If we take the real part at the end, we get back our amplitude-scaled, phase-shifted signal from before!\n",
    "\n",
    "$$\\text{real}(Lz[t]) = A(\\omega) \\cos(\\omega t - \\phi(\\omega)) = Lv[t]$$"
   ]
  },
  {
   "cell_type": "markdown",
   "metadata": {},
   "source": [
    "# Connection with eigenvectors/eigenvalues\n",
    "\n",
    "So you mean to tell me, we could operate with $L$ on our vector $e^{i\\omega t}$... OR we could multiply it by $A(\\omega)e^{-i\\phi(\\omega) t}$... and we get the same thing?!\n",
    "\n",
    "### This is the definition of an eigenvector/eigenvalue\n",
    "\n",
    "In normal matrix math, we say $\\lambda$ is an eigenvalue of $A$ with corresponding eigenvector $\\vec{v}$ if $A\\vec{v} = \\lambda \\vec{v}$. Here we're saying, if $\\vec{v} = e^{i\\omega t}$, then\n",
    "\n",
    "$$L\\vec{v} = A(\\omega)e^{-i\\phi(\\omega)} \\vec{v}$$\n",
    "\n",
    "so $\\vec{v} = e^{i\\omega t}$ is the eigenvector, while $\\lambda = A(\\omega)e^{-i\\phi(\\omega)}$ is the eigenvalue."
   ]
  },
  {
   "cell_type": "code",
   "execution_count": null,
   "metadata": {},
   "outputs": [],
   "source": [
    "#Exercise 7: Recall that a linear, shift-invariant system can be characterized by convolution\n",
    "#with some kernel R. And further, that this convolution can be translated (if inefficiently)\n",
    "#into matrix multiplication by repeating shifted versions of R along the columns. Perform\n",
    "#eigenvalue analysis on such a matrix--what do the eigenvectors look like? Do they remind you\n",
    "#of anything?\n",
    "\n",
    "N = 100\n",
    "kernel = np.zeros(N)\n",
    "t = np.arange(0, 10)\n",
    "kernel[:10] = np.exp(-0.3 * t) #Define exponentially decaying kernel\n",
    "\n",
    "#Generate convolution matrix R\n",
    "R = np.zeros((N, N))\n",
    "for i in range(N):\n",
    "    R[:, i] = np.roll(kernel, i)\n",
    "\n",
    "#Visualize this convolution matrix on a small\n",
    "#patch of it\n",
    "plt.figure()\n",
    "plt.imshow(R[:20, :20])\n",
    "    \n",
    "#Now take the eigendecomposition of R and analyze the eigenvectors. Are they\n",
    "#complex? Plot their real and imaginary parts for some of them\n",
    "\n",
    "#your code here"
   ]
  },
  {
   "cell_type": "code",
   "execution_count": null,
   "metadata": {},
   "outputs": [],
   "source": [
    "#Execise 7 continued: How do we interpret the eigenvalues? Plot\n",
    "#the absolute values of the eigenvalues\n",
    "\n",
    "#your code here"
   ]
  },
  {
   "cell_type": "markdown",
   "metadata": {},
   "source": [
    "# Making the connection between convolution and eigenvalues: filters\n",
    "\n",
    "Let's define a \"Gaussian average\" filter of size 5. What effect, intuitively, should this have on a signal? (It's basically a running average, right?)"
   ]
  },
  {
   "cell_type": "code",
   "execution_count": null,
   "metadata": {},
   "outputs": [],
   "source": [
    "def get_gaussian_kernel(sigma=0.8, t_range=20):\n",
    "    t = np.arange(-t_range, t_range) #Range of kernel\n",
    "    kernel = np.exp(-t**2/(2 * sigma**2)) #Give kernel gaussian shape\n",
    "    kernel = kernel / kernel.sum() #Make kernel normalized as an averaging window\n",
    "    return kernel"
   ]
  },
  {
   "cell_type": "code",
   "execution_count": null,
   "metadata": {},
   "outputs": [],
   "source": [
    "sigma = 0.8\n",
    "t_range = 20\n",
    "kernel = get_gaussian_kernel(sigma=sigma, t_range=t_range)\n",
    "plt.plot(np.arange(-t_range, t_range), kernel)\n",
    "plt.xlabel('Time Shift')\n",
    "plt.legend(['Kernel'])"
   ]
  },
  {
   "cell_type": "code",
   "execution_count": null,
   "metadata": {},
   "outputs": [],
   "source": [
    "#Define a signal that has a clear separation of \"signal\" and noise\n",
    "N = 1000\n",
    "t = np.arange(0, N)\n",
    "freq = 10\n",
    "noise_scale = 0.6\n",
    "x = np.sin(2 * np.pi * freq * t/ N) + noise_scale * np.random.normal(0, 1, N)\n",
    "plt.plot(x)\n",
    "plt.xlabel('Time')\n",
    "plt.legend(['Signal'])"
   ]
  },
  {
   "cell_type": "code",
   "execution_count": null,
   "metadata": {},
   "outputs": [],
   "source": [
    "#Exericse 8: Convolve this signal with our kernel function, using \"same\"\n",
    "#and plot the result. Change the values of sigma and t_range and see what\n",
    "#the effect is\n",
    "\n",
    "#your code here"
   ]
  },
  {
   "cell_type": "code",
   "execution_count": null,
   "metadata": {},
   "outputs": [],
   "source": [
    "#Exercise 9: Finally, plot the power spectrum of the original signal x,\n",
    "#the spectrum of the convolved signal with the kernel. Plot their ratio\n",
    "#at each frequency. What relationship do you see?\n",
    "\n",
    "#your code here\n",
    "\n",
    "#1. compute F_x_power by fft of x\n",
    "#2. compute y by convolution with kernel\n",
    "#3. compute F_y_power by fft of y\n",
    "#4. compute ration of F_y_power / F_x_power\n",
    "#5. Plot 1, 3 and 4"
   ]
  },
  {
   "cell_type": "code",
   "execution_count": null,
   "metadata": {},
   "outputs": [],
   "source": [
    "#Exercise 10: Compute the power of the *kernel itself*\n",
    "#you used above. Hint: you may need to zero pad to make it the\n",
    "#same dimensions as the original signal\n",
    "\n",
    "padded_kernel = np.hstack([kernel, np.zeros(N - len(kernel))])\n",
    "\n",
    "#your code here"
   ]
  },
  {
   "cell_type": "code",
   "execution_count": null,
   "metadata": {},
   "outputs": [],
   "source": [
    "#Exercise 11: Can we recover this from the spectrum of the convolution matrix?\n",
    "# - Compute the convolution matrix by \"rolling\" the padded kernel as before\n",
    "# - Compute its eigenvalues.\n",
    "# - Plot their norms. Recognize this?\n",
    "\n",
    "#your code here"
   ]
  }
 ],
 "metadata": {
  "kernelspec": {
   "display_name": "Python 3",
   "language": "python",
   "name": "python3"
  },
  "language_info": {
   "codemirror_mode": {
    "name": "ipython",
    "version": 3
   },
   "file_extension": ".py",
   "mimetype": "text/x-python",
   "name": "python",
   "nbconvert_exporter": "python",
   "pygments_lexer": "ipython3",
   "version": "3.7.6"
  }
 },
 "nbformat": 4,
 "nbformat_minor": 4
}
